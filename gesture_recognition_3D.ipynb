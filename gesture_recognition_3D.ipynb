{
  "nbformat": 4,
  "nbformat_minor": 0,
  "metadata": {
    "colab": {
      "provenance": [],
      "include_colab_link": true
    },
    "kernelspec": {
      "name": "python3",
      "display_name": "Python 3"
    },
    "language_info": {
      "name": "python"
    }
  },
  "cells": [
    {
      "cell_type": "markdown",
      "metadata": {
        "id": "view-in-github",
        "colab_type": "text"
      },
      "source": [
        "<a href=\"https://colab.research.google.com/github/FrancescoPassiatore/2017-09-22/blob/master/gesture_recognition_3D.ipynb\" target=\"_parent\"><img src=\"https://colab.research.google.com/assets/colab-badge.svg\" alt=\"Open In Colab\"/></a>"
      ]
    },
    {
      "cell_type": "code",
      "source": [
        "#Scaricare e aprire acquisizioni.zip\n",
        "from google.colab import drive\n",
        "drive.mount('/content/drive')\n",
        "!unzip -q \"/content/drive/MyDrive/acquisizioni.zip\" -d \"/content/dataset\""
      ],
      "metadata": {
        "id": "V6hS3z6hdmvp",
        "colab": {
          "base_uri": "https://localhost:8080/"
        },
        "outputId": "0682c05e-a39f-4fee-b89e-01801fcc9d95"
      },
      "execution_count": null,
      "outputs": [
        {
          "output_type": "stream",
          "name": "stdout",
          "text": [
            "Drive already mounted at /content/drive; to attempt to forcibly remount, call drive.mount(\"/content/drive\", force_remount=True).\n"
          ]
        }
      ]
    },
    {
      "cell_type": "code",
      "source": [
        "%%bash\n",
        "pip install mediapipe"
      ],
      "metadata": {
        "id": "TLW1p1IJdjYW"
      },
      "execution_count": null,
      "outputs": []
    },
    {
      "cell_type": "code",
      "execution_count": null,
      "metadata": {
        "id": "CbfRT6g2dOkU"
      },
      "outputs": [],
      "source": [
        "import os\n",
        "import numpy as np\n",
        "import cv2\n",
        "import mediapipe as mp\n",
        "import csv\n",
        "\n",
        "# MediaPipe setup\n",
        "mp_hands = mp.solutions.hands\n",
        "hands = mp_hands.Hands(\n",
        "    static_image_mode=True,\n",
        "    max_num_hands=1,\n",
        ")\n",
        "\n",
        "# Percorsi\n",
        "DATASET_DIR = \"/content/3\"  # Cambia se necessario\n",
        "output_npy = \"landmarks.npy\"\n",
        "output_labels = \"labels.npy\"\n",
        "output_csv = \"landmarks.csv\"\n",
        "\n",
        "# Output\n",
        "all_landmarks = []\n",
        "all_labels = []\n",
        "\n",
        "# Mapping label\n",
        "label_map = {\n",
        "    \"1\": 1,\n",
        "    \"2\": 2,\n",
        "    \"tre\": 3,\n",
        "    \"0\": 0\n",
        "}\n",
        "\n",
        "# CSV setup\n",
        "csv_file = open(output_csv, mode='w', newline='')\n",
        "csv_writer = csv.writer(csv_file)\n",
        "\n",
        "# Header\n",
        "header = [f'{dim}{i}' for i in range(21) for dim in ['x', 'y', 'z']]\n",
        "header.append('label')\n",
        "csv_writer.writerow(header)\n",
        "\n",
        "# Contatori\n",
        "total_images = 0\n",
        "processed_images = 0\n",
        "skipped_images = 0\n",
        "\n",
        "# Scansiona le sottocartelle\n",
        "for class_name in sorted(os.listdir(DATASET_DIR)):\n",
        "    print(f\"✔️ Cartella: {class_name}\")\n",
        "    class_path = os.path.join(DATASET_DIR, class_name)\n",
        "    if not os.path.isdir(class_path):\n",
        "        continue\n",
        "\n",
        "    if class_name not in label_map:\n",
        "        print(f\"⚠️ La cartella '{class_name}' non ha una label definita. Saltata.\")\n",
        "        continue\n",
        "    label = label_map[class_name]\n",
        "\n",
        "    for filename in os.listdir(class_path):\n",
        "        print(filename)\n",
        "        if not filename.endswith('_Color.png'):\n",
        "            continue  # ⛔ Salta file che non terminano in _Color.png\n",
        "\n",
        "        total_images += 1\n",
        "\n",
        "        image_path = os.path.join(class_path, filename)\n",
        "        image = cv2.imread(image_path)\n",
        "        if image is None:\n",
        "            print(f\"❌ Errore nel caricamento di: {image_path}\")\n",
        "            skipped_images += 1\n",
        "            continue\n",
        "\n",
        "        # Converti BGR in RGB per MediaPipe\n",
        "        image_rgb = cv2.cvtColor(image, cv2.COLOR_BGR2RGB)\n",
        "        results = hands.process(image_rgb)\n",
        "\n",
        "        if results.multi_hand_landmarks:\n",
        "            hand = results.multi_hand_landmarks[0]\n",
        "            landmarks = []\n",
        "            for lm in hand.landmark:\n",
        "                landmarks.extend([lm.x, lm.y, lm.z])\n",
        "            all_landmarks.append(landmarks)\n",
        "            all_labels.append(label)\n",
        "            csv_writer.writerow(landmarks + [label])\n",
        "            processed_images += 1\n",
        "        else:\n",
        "            print(f\"🙈 Nessuna mano rilevata in: {image_path}\")\n",
        "            skipped_images += 1\n",
        "\n",
        "# Cleanup\n",
        "csv_file.close()\n",
        "hands.close()\n",
        "\n",
        "np.save(output_npy, np.array(all_landmarks))\n",
        "np.save(output_labels, np.array(all_labels))\n",
        "\n",
        "# Report finale\n",
        "print(f\"\\n✅ Salvati: {output_npy}, {output_labels}, {output_csv}\")\n",
        "print(f\"📊 Totale immagini trovate: {total_images}\")\n",
        "print(f\"👌 Immagini elaborate con successo: {processed_images}\")\n",
        "print(f\"🚫 Immagini scartate (errore o mano non rilevata): {skipped_images}\")\n"
      ]
    }
  ]
}